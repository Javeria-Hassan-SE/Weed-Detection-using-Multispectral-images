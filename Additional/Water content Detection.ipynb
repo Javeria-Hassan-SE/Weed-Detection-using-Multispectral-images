{
 "cells": [
  {
   "cell_type": "code",
   "execution_count": 9,
   "id": "6e287162",
   "metadata": {},
   "outputs": [],
   "source": [
    "import waterdetect as wd\n",
    "import rasterio"
   ]
  },
  {
   "cell_type": "code",
   "execution_count": 10,
   "id": "626db2f6",
   "metadata": {},
   "outputs": [
    {
     "name": "stdout",
     "output_type": "stream",
     "text": [
      "Loading configuration file WaterDetect.ini\n",
      "File WaterDetect.ini verified.\n"
     ]
    },
    {
     "data": {
      "text/plain": [
       "([['mndwi', 'ndwi', 'Mir2'], ['Mir', 'Red', 'Mir2'], ['Red', 'Mir2', 'Mir']],\n",
       " 'maxmbwi')"
      ]
     },
     "execution_count": 10,
     "metadata": {},
     "output_type": "execute_result"
    }
   ],
   "source": [
    "config = wd.DWConfig(config_file='WaterDetect.ini')\n",
    "config.clustering_bands, config.detect_water_cluster"
   ]
  },
  {
   "cell_type": "code",
   "execution_count": 11,
   "id": "818e1748",
   "metadata": {},
   "outputs": [
    {
     "data": {
      "text/plain": [
       "((3, 5490, 5490), (3, 5490, 5490))"
      ]
     },
     "execution_count": 11,
     "metadata": {},
     "output_type": "execute_result"
    }
   ],
   "source": [
    "b3  = rasterio.open(r'C:\\Users\\HP\\L1C_T43RDQ_A029060_20220929T054502.tif').read()\n",
    "b3.shape\n",
    "nir = rasterio.open(r'C:\\Users\\HP\\L1C_T43RDQ_A037897_20220924T054216.tif').read()\n",
    "b3.shape, nir.shape"
   ]
  },
  {
   "cell_type": "code",
   "execution_count": 12,
   "id": "e812af48",
   "metadata": {},
   "outputs": [
    {
     "ename": "OSError",
     "evalue": "Required bands not informed: {'Red', 'Mir2', 'Mir'}",
     "output_type": "error",
     "traceback": [
      "\u001b[1;31m---------------------------------------------------------------------------\u001b[0m",
      "\u001b[1;31mOSError\u001b[0m                                   Traceback (most recent call last)",
      "\u001b[1;32m~\\AppData\\Local\\Temp\\ipykernel_9104\\2209576019.py\u001b[0m in \u001b[0;36m<module>\u001b[1;34m\u001b[0m\n\u001b[0;32m      1\u001b[0m \u001b[0mbands\u001b[0m \u001b[1;33m=\u001b[0m \u001b[1;33m{\u001b[0m\u001b[1;34m'Green'\u001b[0m\u001b[1;33m:\u001b[0m \u001b[0mb3\u001b[0m\u001b[1;33m.\u001b[0m\u001b[0msqueeze\u001b[0m\u001b[1;33m(\u001b[0m\u001b[1;33m)\u001b[0m\u001b[1;33m/\u001b[0m\u001b[1;36m10000\u001b[0m\u001b[1;33m,\u001b[0m \u001b[1;34m'Nir'\u001b[0m\u001b[1;33m:\u001b[0m \u001b[0mnir\u001b[0m\u001b[1;33m.\u001b[0m\u001b[0msqueeze\u001b[0m\u001b[1;33m(\u001b[0m\u001b[1;33m)\u001b[0m\u001b[1;33m/\u001b[0m\u001b[1;36m10000\u001b[0m\u001b[1;33m}\u001b[0m\u001b[1;33m\u001b[0m\u001b[1;33m\u001b[0m\u001b[0m\n\u001b[1;32m----> 2\u001b[1;33m \u001b[0mwmask\u001b[0m \u001b[1;33m=\u001b[0m \u001b[0mwd\u001b[0m\u001b[1;33m.\u001b[0m\u001b[0mDWImageClustering\u001b[0m\u001b[1;33m(\u001b[0m\u001b[0mbands\u001b[0m\u001b[1;33m=\u001b[0m\u001b[0mbands\u001b[0m\u001b[1;33m,\u001b[0m \u001b[0mbands_keys\u001b[0m\u001b[1;33m=\u001b[0m\u001b[1;33m[\u001b[0m\u001b[1;34m'Nir'\u001b[0m\u001b[1;33m,\u001b[0m \u001b[1;34m'ndwi'\u001b[0m\u001b[1;33m]\u001b[0m\u001b[1;33m,\u001b[0m \u001b[0minvalid_mask\u001b[0m\u001b[1;33m=\u001b[0m\u001b[1;32mNone\u001b[0m\u001b[1;33m,\u001b[0m \u001b[0mconfig\u001b[0m\u001b[1;33m=\u001b[0m\u001b[0mconfig\u001b[0m\u001b[1;33m)\u001b[0m\u001b[1;33m\u001b[0m\u001b[1;33m\u001b[0m\u001b[0m\n\u001b[0m\u001b[0;32m      3\u001b[0m \u001b[0mmask\u001b[0m \u001b[1;33m=\u001b[0m \u001b[0mwmask\u001b[0m\u001b[1;33m.\u001b[0m\u001b[0mrun_detect_water\u001b[0m\u001b[1;33m(\u001b[0m\u001b[1;33m)\u001b[0m\u001b[1;33m\u001b[0m\u001b[1;33m\u001b[0m\u001b[0m\n",
      "\u001b[1;32m~\\AppData\\Roaming\\Python\\Python39\\site-packages\\waterdetect\\Image.py\u001b[0m in \u001b[0;36m__init__\u001b[1;34m(self, bands, bands_keys, invalid_mask, config, glint_processor)\u001b[0m\n\u001b[0;32m     25\u001b[0m         \u001b[0mself\u001b[0m\u001b[1;33m.\u001b[0m\u001b[0mbands_keys\u001b[0m \u001b[1;33m=\u001b[0m \u001b[0mbands_keys\u001b[0m\u001b[1;33m\u001b[0m\u001b[1;33m\u001b[0m\u001b[0m\n\u001b[0;32m     26\u001b[0m \u001b[1;33m\u001b[0m\u001b[0m\n\u001b[1;32m---> 27\u001b[1;33m         \u001b[0mself\u001b[0m\u001b[1;33m.\u001b[0m\u001b[0mbands\u001b[0m\u001b[1;33m,\u001b[0m \u001b[0mself\u001b[0m\u001b[1;33m.\u001b[0m\u001b[0mbands_keys\u001b[0m\u001b[1;33m,\u001b[0m \u001b[0mself\u001b[0m\u001b[1;33m.\u001b[0m\u001b[0minvalid_mask\u001b[0m \u001b[1;33m=\u001b[0m \u001b[0mself\u001b[0m\u001b[1;33m.\u001b[0m\u001b[0mcheck_necessary_bands\u001b[0m\u001b[1;33m(\u001b[0m\u001b[0mbands\u001b[0m\u001b[1;33m,\u001b[0m \u001b[0mbands_keys\u001b[0m\u001b[1;33m,\u001b[0m \u001b[0minvalid_mask\u001b[0m\u001b[1;33m)\u001b[0m\u001b[1;33m\u001b[0m\u001b[1;33m\u001b[0m\u001b[0m\n\u001b[0m\u001b[0;32m     28\u001b[0m         \u001b[1;32mreturn\u001b[0m\u001b[1;33m\u001b[0m\u001b[1;33m\u001b[0m\u001b[0m\n\u001b[0;32m     29\u001b[0m \u001b[1;33m\u001b[0m\u001b[0m\n",
      "\u001b[1;32m~\\AppData\\Roaming\\Python\\Python39\\site-packages\\waterdetect\\Image.py\u001b[0m in \u001b[0;36mcheck_necessary_bands\u001b[1;34m(self, bands, bands_keys, invalid_mask)\u001b[0m\n\u001b[0;32m     81\u001b[0m         \u001b[0mrequired_bands\u001b[0m\u001b[1;33m,\u001b[0m \u001b[0mrequired_indices\u001b[0m \u001b[1;33m=\u001b[0m \u001b[0mself\u001b[0m\u001b[1;33m.\u001b[0m\u001b[0mget_necessary_bands\u001b[0m\u001b[1;33m(\u001b[0m\u001b[1;33m)\u001b[0m\u001b[1;33m\u001b[0m\u001b[1;33m\u001b[0m\u001b[0m\n\u001b[0;32m     82\u001b[0m         \u001b[1;32mif\u001b[0m \u001b[1;32mnot\u001b[0m \u001b[0mrequired_bands\u001b[0m\u001b[1;33m.\u001b[0m\u001b[0missubset\u001b[0m\u001b[1;33m(\u001b[0m\u001b[0mbands\u001b[0m\u001b[1;33m)\u001b[0m\u001b[1;33m:\u001b[0m\u001b[1;33m\u001b[0m\u001b[1;33m\u001b[0m\u001b[0m\n\u001b[1;32m---> 83\u001b[1;33m             \u001b[1;32mraise\u001b[0m \u001b[0mOSError\u001b[0m\u001b[1;33m(\u001b[0m\u001b[1;34mf'Required bands not informed: {required_bands.difference(bands)}'\u001b[0m\u001b[1;33m)\u001b[0m\u001b[1;33m\u001b[0m\u001b[1;33m\u001b[0m\u001b[0m\n\u001b[0m\u001b[0;32m     84\u001b[0m \u001b[1;33m\u001b[0m\u001b[0m\n\u001b[0;32m     85\u001b[0m         \u001b[1;31m# get the first band as reference of size\u001b[0m\u001b[1;33m\u001b[0m\u001b[1;33m\u001b[0m\u001b[0m\n",
      "\u001b[1;31mOSError\u001b[0m: Required bands not informed: {'Red', 'Mir2', 'Mir'}"
     ]
    }
   ],
   "source": [
    "bands = {'Green': b3.squeeze()/10000, 'Nir': nir.squeeze()/10000}\n",
    "wmask = wd.DWImageClustering(bands=bands, bands_keys=['Nir', 'ndwi'], invalid_mask=None, config=config)\n",
    "mask = wmask.run_detect_water()"
   ]
  },
  {
   "cell_type": "code",
   "execution_count": 13,
   "id": "6554e30f",
   "metadata": {},
   "outputs": [],
   "source": [
    "%load_ext autoreload\n",
    "%autoreload 2\n",
    "import waterdetect as wd"
   ]
  },
  {
   "cell_type": "code",
   "execution_count": 14,
   "id": "24ff239a",
   "metadata": {},
   "outputs": [
    {
     "name": "stdout",
     "output_type": "stream",
     "text": [
      "GDAL not found in environment. Waterdetect can still run as API calling DWImageClustering and passing the arrays as dictionary. Refer to online documentation. No call to DWWaterDetect, that requires loading satellite images from disk will be possible\n",
      "Copying C:\\Users\\HP\\AppData\\Roaming\\Python\\Python39\\site-packages\\WaterDetect.ini into current dir.\n",
      "WaterDetect.ini copied into C:\\Users\\HP.\n"
     ]
    }
   ],
   "source": [
    "# We will copy the configuration file to the current directory\n",
    "!waterdetect -GC"
   ]
  },
  {
   "cell_type": "code",
   "execution_count": 17,
   "id": "d70f0912",
   "metadata": {},
   "outputs": [
    {
     "ename": "AttributeError",
     "evalue": "type object 'DWWaterDetect' has no attribute 'run_single'",
     "output_type": "error",
     "traceback": [
      "\u001b[1;31m---------------------------------------------------------------------------\u001b[0m",
      "\u001b[1;31mAttributeError\u001b[0m                            Traceback (most recent call last)",
      "\u001b[1;32m~\\AppData\\Local\\Temp\\ipykernel_9104\\1527333566.py\u001b[0m in \u001b[0;36m<module>\u001b[1;34m\u001b[0m\n\u001b[1;32m----> 1\u001b[1;33m water_mask = wd.DWWaterDetect.run_single(image_folder=r'C:\\Users\\HP\\Downloads\\dataset',\n\u001b[0m\u001b[0;32m      2\u001b[0m                                          \u001b[0mtemp_folder\u001b[0m\u001b[1;33m=\u001b[0m\u001b[1;34mr'C:\\Users\\HP'\u001b[0m\u001b[1;33m,\u001b[0m\u001b[1;33m\u001b[0m\u001b[1;33m\u001b[0m\u001b[0m\n\u001b[0;32m      3\u001b[0m                                          \u001b[0mshape_file\u001b[0m\u001b[1;33m=\u001b[0m\u001b[1;32mNone\u001b[0m\u001b[1;33m\u001b[0m\u001b[1;33m\u001b[0m\u001b[0m\n\u001b[0;32m      4\u001b[0m                                         )\n",
      "\u001b[1;31mAttributeError\u001b[0m: type object 'DWWaterDetect' has no attribute 'run_single'"
     ]
    }
   ],
   "source": [
    "water_mask = wd.DWWaterDetect.run_single(image_folder=r'C:\\Users\\HP\\Downloads\\dataset',\n",
    "                                         temp_folder=r'C:\\Users\\HP',\n",
    "                                         shape_file=None\n",
    "                                        )"
   ]
  },
  {
   "cell_type": "code",
   "execution_count": null,
   "id": "23b96405",
   "metadata": {},
   "outputs": [],
   "source": []
  }
 ],
 "metadata": {
  "kernelspec": {
   "display_name": "Python 3 (ipykernel)",
   "language": "python",
   "name": "python3"
  },
  "language_info": {
   "codemirror_mode": {
    "name": "ipython",
    "version": 3
   },
   "file_extension": ".py",
   "mimetype": "text/x-python",
   "name": "python",
   "nbconvert_exporter": "python",
   "pygments_lexer": "ipython3",
   "version": "3.9.13"
  }
 },
 "nbformat": 4,
 "nbformat_minor": 5
}
