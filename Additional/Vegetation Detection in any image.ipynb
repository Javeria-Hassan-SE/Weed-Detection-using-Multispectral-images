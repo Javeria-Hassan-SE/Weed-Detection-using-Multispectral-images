{
 "cells": [
  {
   "cell_type": "code",
   "execution_count": 30,
   "id": "34204cfd",
   "metadata": {},
   "outputs": [],
   "source": [
    "import numpy as np\n",
    "import cv2\n",
    "\n",
    "img = cv2.imread('input.png')\n",
    "upperbound = np.array([70, 255,255])\n",
    "lowerbound = np.array([40, 40,40])\n",
    "mask = cv2.inRange(img, lowerbound, upperbound)\n",
    "imask = mask>0\n",
    "white = np.full_like(img, [255,255,255], np.uint8)\n",
    "\n",
    "result = np.zeros_like(img, np.uint8)\n",
    "result[imask] = white[imask]\n",
    "\n",
    "cv2.imshow(winname = 'satellite image', mat = img)\n",
    "cv2.imshow('vegetation detection', result)\n",
    "\n",
    "cv2.waitKey(0) \n",
    "cv2.destroyAllWindows() "
   ]
  },
  {
   "cell_type": "code",
   "execution_count": null,
   "id": "b4d66efa",
   "metadata": {},
   "outputs": [],
   "source": []
  }
 ],
 "metadata": {
  "kernelspec": {
   "display_name": "Python 3 (ipykernel)",
   "language": "python",
   "name": "python3"
  },
  "language_info": {
   "codemirror_mode": {
    "name": "ipython",
    "version": 3
   },
   "file_extension": ".py",
   "mimetype": "text/x-python",
   "name": "python",
   "nbconvert_exporter": "python",
   "pygments_lexer": "ipython3",
   "version": "3.9.13"
  }
 },
 "nbformat": 4,
 "nbformat_minor": 5
}
